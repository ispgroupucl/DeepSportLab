{
 "cells": [
  {
   "cell_type": "code",
   "execution_count": null,
   "id": "continuing-cover",
   "metadata": {},
   "outputs": [],
   "source": [
    "import pickle\n",
    "import numpy as np\n",
    "with open('coco.pickle', 'rb') as f:\n",
    "    image, anns, meta = pickle.load(f)\n",
    "    \n",
    "# you have to choose the right keypoint here\n",
    "y = anns[0][1][17][0] # y for keypoint 0 of image 0\n",
    "x = anns[0][1][17][1] # x for keypoint 0 of image 0\n",
    "\n",
    "import matplotlib.pyplot as plt\n",
    "import cv2\n",
    "\n",
    "# print(a[0][7].shape)\n",
    "\n",
    "# data_transposed = np.transpose(a[0][7].numpy(),(1,2,0))\n",
    "data_transposed = np.transpose(image.numpy(),(1,2,0))\n",
    "print(data_transposed.shape)\n",
    "# img = cv2.imread(data_transposed)\n",
    "# data_transposed = cv2.resize(data_transposed, dsize=(49, 49))\n",
    "\n",
    "image_emp_copy = (data_transposed - data_transposed.min())/(data_transposed.max()-data_transposed.min())\n",
    "print(image_emp_copy.shape)\n",
    "# image_emp_copy = rescale(image_emp_copy, 1.0/16, anti_aliasing=False)\n",
    "print(image_emp_copy.shape)\n",
    "\n",
    "plt.figure(figsize=(20,20))\n",
    "origin = np.indices(x.shape)\n",
    "origin_copy = origin.copy()\n",
    "origin_copy[0] = origin[1]*8\n",
    "origin_copy[1] = origin[0]*8\n",
    "plt.quiver(*origin_copy, y, -x,scale=70, color='r')\n",
    "plt.scatter(x=origin[0]*8, y=origin[1]*8, c='b', s=.1)\n",
    "\n",
    "\n",
    "plt.imshow(image_emp_copy)\n",
    "\n"
   ]
  }
 ],
 "metadata": {
  "kernelspec": {
   "display_name": "Python 3",
   "language": "python",
   "name": "python3"
  },
  "language_info": {
   "codemirror_mode": {
    "name": "ipython",
    "version": 3
   },
   "file_extension": ".py",
   "mimetype": "text/x-python",
   "name": "python",
   "nbconvert_exporter": "python",
   "pygments_lexer": "ipython3",
   "version": "3.7.4"
  }
 },
 "nbformat": 4,
 "nbformat_minor": 5
}
